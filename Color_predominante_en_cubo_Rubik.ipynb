{
  "nbformat": 4,
  "nbformat_minor": 0,
  "metadata": {
    "colab": {
      "provenance": [],
      "authorship_tag": "ABX9TyPS8quWs+BK/COyYr1DyPWA",
      "include_colab_link": true
    },
    "kernelspec": {
      "name": "python3",
      "display_name": "Python 3"
    },
    "language_info": {
      "name": "python"
    }
  },
  "cells": [
    {
      "cell_type": "markdown",
      "metadata": {
        "id": "view-in-github",
        "colab_type": "text"
      },
      "source": [
        "<a href=\"https://colab.research.google.com/github/saulantonine/Redes-Neuronales/blob/main/Color_predominante_en_cubo_Rubik.ipynb\" target=\"_parent\"><img src=\"https://colab.research.google.com/assets/colab-badge.svg\" alt=\"Open In Colab\"/></a>"
      ]
    },
    {
      "cell_type": "code",
      "source": [
        "import json\n",
        "import os\n",
        "import numpy as np\n",
        "import tensorflow as tf\n",
        "from sklearn.model_selection import train_test_split\n",
        "from keras import layers, models\n"
      ],
      "metadata": {
        "id": "nKu-5qGsCr2z"
      },
      "execution_count": 2,
      "outputs": []
    },
    {
      "cell_type": "code",
      "source": [
        "\n",
        "# Estableciendo valores numericos a las cadenas\n",
        "COLOR = {\n",
        "    \"r\": 0,\n",
        "    \"v\": 1,\n",
        "    \"z\": 2,\n",
        "    \"a\": 3,\n",
        "    \"n\": 4,\n",
        "    \"b\": 5,\n",
        "    \"none\": 6  # para empates se usa \"none\"\n",
        "}\n"
      ],
      "metadata": {
        "id": "IAyGiTPcCv4W"
      },
      "execution_count": 3,
      "outputs": []
    },
    {
      "cell_type": "code",
      "source": [
        "# Diccionario que traduce numeros a letras\n",
        "NUM_COLOR = {v: k for k, v in COLOR.items()}"
      ],
      "metadata": {
        "id": "GygVwkIlCv8Z"
      },
      "execution_count": 4,
      "outputs": []
    },
    {
      "cell_type": "code",
      "source": [
        "\n",
        "# Manipulacion de set de datos\n",
        "def set_datos(archivo, carpeta):\n",
        "    with open(archivo, \"r\") as f:\n",
        "        contenido = json.load(f)\n",
        "\n",
        "    imagenes = []\n",
        "    etiquetas = []\n",
        "\n",
        "    for nombre_img, color_predom in contenido.items():\n",
        "        # Cargar y normalizar\n",
        "        dir_img = os.path.join(carpeta, nombre_img)\n",
        "        imagen = tf.keras.utils.load_img(dir_img, target_size=(224, 224))\n",
        "        imagen = tf.keras.utils.img_to_array(imagen) / 255.0  # Normalizar a [0, 1]\n",
        "\n",
        "        # De color a numero con el caso en el que no halla color predominante\n",
        "        if color_predom == 0:\n",
        "            etiqueta_num = COLOR[\"none\"]\n",
        "        else:\n",
        "            etiqueta_num = COLOR[color_predom]\n",
        "\n",
        "        imagenes.append(imagen)\n",
        "        etiquetas.append(etiqueta_num)\n",
        "\n",
        "    return np.array(imagenes), np.array(etiquetas)"
      ],
      "metadata": {
        "id": "e2_18VfkCwCJ"
      },
      "execution_count": 5,
      "outputs": []
    },
    {
      "cell_type": "code",
      "source": [
        "\n",
        "# modelo CNN\n",
        "def crear_modelCNN():\n",
        "    modeloCNN = models.Sequential([\n",
        "        layers.Input(shape=(224, 224, 3)),\n",
        "        layers.Conv2D(32, (3, 3), activation='relu', padding='same'),\n",
        "        layers.MaxPooling2D((2, 2)),\n",
        "        layers.Conv2D(64, (3, 3), activation='relu', padding='same'),\n",
        "        layers.MaxPooling2D((2, 2)),\n",
        "        layers.Conv2D(128, (3, 3), activation='relu', padding='same'),\n",
        "        layers.MaxPooling2D((2, 2)),\n",
        "        layers.Flatten(),\n",
        "        layers.Dense(128, activation='relu'),\n",
        "        layers.Dropout(0.5),\n",
        "        layers.Dense(7, activation='softmax')  # 7 classes (6 colors + none)\n",
        "    ])\n",
        "    return modeloCNN"
      ],
      "metadata": {
        "id": "rTR7DAWLC6uF"
      },
      "execution_count": 6,
      "outputs": []
    },
    {
      "cell_type": "code",
      "execution_count": 7,
      "metadata": {
        "colab": {
          "base_uri": "https://localhost:8080/",
          "height": 332
        },
        "id": "XzoTGJOaCocw",
        "outputId": "90dbdf09-1817-4fbe-ea6a-e13244433be1"
      },
      "outputs": [
        {
          "output_type": "error",
          "ename": "FileNotFoundError",
          "evalue": "[Errno 2] No such file or directory: 'etiquetas.json'",
          "traceback": [
            "\u001b[0;31m---------------------------------------------------------------------------\u001b[0m",
            "\u001b[0;31mFileNotFoundError\u001b[0m                         Traceback (most recent call last)",
            "\u001b[0;32m<ipython-input-7-606ae525d58d>\u001b[0m in \u001b[0;36m<cell line: 6>\u001b[0;34m()\u001b[0m\n\u001b[1;32m      4\u001b[0m \u001b[0;34m\u001b[0m\u001b[0m\n\u001b[1;32m      5\u001b[0m \u001b[0;34m\u001b[0m\u001b[0m\n\u001b[0;32m----> 6\u001b[0;31m \u001b[0mimagenes\u001b[0m\u001b[0;34m,\u001b[0m \u001b[0metiquetas\u001b[0m \u001b[0;34m=\u001b[0m \u001b[0mset_datos\u001b[0m\u001b[0;34m(\u001b[0m\u001b[0marchivo\u001b[0m\u001b[0;34m,\u001b[0m \u001b[0mcarpeta\u001b[0m\u001b[0;34m)\u001b[0m\u001b[0;34m\u001b[0m\u001b[0;34m\u001b[0m\u001b[0m\n\u001b[0m\u001b[1;32m      7\u001b[0m \u001b[0;34m\u001b[0m\u001b[0m\n\u001b[1;32m      8\u001b[0m \u001b[0mX_train\u001b[0m\u001b[0;34m,\u001b[0m \u001b[0mX_val\u001b[0m\u001b[0;34m,\u001b[0m \u001b[0my_train\u001b[0m\u001b[0;34m,\u001b[0m \u001b[0my_val\u001b[0m \u001b[0;34m=\u001b[0m \u001b[0mtrain_test_split\u001b[0m\u001b[0;34m(\u001b[0m\u001b[0mimagenes\u001b[0m\u001b[0;34m,\u001b[0m \u001b[0metiquetas\u001b[0m\u001b[0;34m,\u001b[0m \u001b[0mtest_size\u001b[0m\u001b[0;34m=\u001b[0m\u001b[0;36m0.2\u001b[0m\u001b[0;34m,\u001b[0m \u001b[0mrandom_state\u001b[0m\u001b[0;34m=\u001b[0m\u001b[0;36m42\u001b[0m\u001b[0;34m)\u001b[0m\u001b[0;34m\u001b[0m\u001b[0;34m\u001b[0m\u001b[0m\n",
            "\u001b[0;32m<ipython-input-5-8cfef0dafd50>\u001b[0m in \u001b[0;36mset_datos\u001b[0;34m(archivo, carpeta)\u001b[0m\n\u001b[1;32m      1\u001b[0m \u001b[0;31m# Manipulacion de set de datos\u001b[0m\u001b[0;34m\u001b[0m\u001b[0;34m\u001b[0m\u001b[0m\n\u001b[1;32m      2\u001b[0m \u001b[0;32mdef\u001b[0m \u001b[0mset_datos\u001b[0m\u001b[0;34m(\u001b[0m\u001b[0marchivo\u001b[0m\u001b[0;34m,\u001b[0m \u001b[0mcarpeta\u001b[0m\u001b[0;34m)\u001b[0m\u001b[0;34m:\u001b[0m\u001b[0;34m\u001b[0m\u001b[0;34m\u001b[0m\u001b[0m\n\u001b[0;32m----> 3\u001b[0;31m     \u001b[0;32mwith\u001b[0m \u001b[0mopen\u001b[0m\u001b[0;34m(\u001b[0m\u001b[0marchivo\u001b[0m\u001b[0;34m,\u001b[0m \u001b[0;34m\"r\"\u001b[0m\u001b[0;34m)\u001b[0m \u001b[0;32mas\u001b[0m \u001b[0mf\u001b[0m\u001b[0;34m:\u001b[0m\u001b[0;34m\u001b[0m\u001b[0;34m\u001b[0m\u001b[0m\n\u001b[0m\u001b[1;32m      4\u001b[0m         \u001b[0mcontenido\u001b[0m \u001b[0;34m=\u001b[0m \u001b[0mjson\u001b[0m\u001b[0;34m.\u001b[0m\u001b[0mload\u001b[0m\u001b[0;34m(\u001b[0m\u001b[0mf\u001b[0m\u001b[0;34m)\u001b[0m\u001b[0;34m\u001b[0m\u001b[0;34m\u001b[0m\u001b[0m\n\u001b[1;32m      5\u001b[0m \u001b[0;34m\u001b[0m\u001b[0m\n",
            "\u001b[0;31mFileNotFoundError\u001b[0m: [Errno 2] No such file or directory: 'etiquetas.json'"
          ]
        }
      ],
      "source": [
        "\n",
        "\n",
        "# nombres de archivo y carpeta\n",
        "archivo = \"etiquetas.json\"\n",
        "carpeta = \"Imagenes\"\n",
        "\n",
        "\n",
        "imagenes, etiquetas = set_datos(archivo, carpeta)\n",
        "\n",
        "X_train, X_val, y_train, y_val = train_test_split(imagenes, etiquetas, test_size=0.2, random_state=42)\n",
        "\n",
        "modelo = crear_modelCNN()\n",
        "modelo.compile(\n",
        "    optimizer='adam',\n",
        "    loss='sparse_categorical_crossentropy',\n",
        "    metrics=['accuracy']\n",
        ")\n",
        "\n",
        "modelo.fit(\n",
        "    X_train, y_train,\n",
        "    validation_data=(X_val, y_val),\n",
        "    epochs=20,\n",
        "    batch_size=32,\n",
        ")\n",
        "\n",
        "perdida, precision = modelo.evaluate(X_val, y_val)\n",
        "print(f\"Precision de validacion: {precision:.2f}\")\n",
        "\n",
        "# Guardar\n",
        "modelo.save(\"cubo_rubik_color_predominante.h5\")\n",
        "\n",
        "# Evaluar el modelo con imagenes nuevas\n",
        "predicciones = modelo.predict(X_val[:5])  # Usando 5 imagenes de validacion\n",
        "color_predecido = np.argmax(predicciones, axis=1)\n",
        "\n",
        "print(\"Predicciones:\")\n",
        "for i, pred in enumerate(color_predecido):\n",
        "    print(f\"Imagen {i + 1}: Color: {NUM_COLOR[pred]}, Color Real: {NUM_COLOR[y_val[i]]}\")\n"
      ]
    }
  ]
}